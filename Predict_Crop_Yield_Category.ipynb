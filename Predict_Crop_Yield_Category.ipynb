{
  "nbformat": 4,
  "nbformat_minor": 0,
  "metadata": {
    "colab": {
      "provenance": [],
      "authorship_tag": "ABX9TyNwWjOQHHthvXn15dp4bexz",
      "include_colab_link": true
    },
    "kernelspec": {
      "name": "python3",
      "display_name": "Python 3"
    },
    "language_info": {
      "name": "python"
    }
  },
  "cells": [
    {
      "cell_type": "markdown",
      "metadata": {
        "id": "view-in-github",
        "colab_type": "text"
      },
      "source": [
        "<a href=\"https://colab.research.google.com/github/ahr1223/Predict-Crop-Yield-Category/blob/main/Predict_Crop_Yield_Category.ipynb\" target=\"_parent\"><img src=\"https://colab.research.google.com/assets/colab-badge.svg\" alt=\"Open In Colab\"/></a>"
      ]
    },
    {
      "cell_type": "code",
      "source": [
        "from google.colab import drive\n",
        "drive.mount('/content/drive')\n"
      ],
      "metadata": {
        "colab": {
          "base_uri": "https://localhost:8080/"
        },
        "id": "TmGGORx4v3fI",
        "outputId": "1c50ec31-aa2b-4739-ad29-3d02cecbadab"
      },
      "execution_count": 17,
      "outputs": [
        {
          "output_type": "stream",
          "name": "stdout",
          "text": [
            "Drive already mounted at /content/drive; to attempt to forcibly remount, call drive.mount(\"/content/drive\", force_remount=True).\n"
          ]
        }
      ]
    },
    {
      "cell_type": "code",
      "source": [
        "import pandas as pd\n",
        "file_path = '/crop_yield.csv'\n",
        "df = pd.read_csv(file_path)\n",
        "print(df.head())\n"
      ],
      "metadata": {
        "colab": {
          "base_uri": "https://localhost:8080/"
        },
        "id": "yw7xXal_wh5o",
        "outputId": "e8200071-e024-4344-8632-b82e57d2c926"
      },
      "execution_count": 22,
      "outputs": [
        {
          "output_type": "stream",
          "name": "stdout",
          "text": [
            "   soil_quality    rainfall seed_type yield_category\n",
            "0      5.787214  376.596391         C            low\n",
            "1      2.222101  787.223810         A            low\n",
            "2      1.893720  810.077116         A         medium\n",
            "3      2.879777  943.405918         C         medium\n",
            "4      9.330736  224.439566         C         medium\n"
          ]
        }
      ]
    },
    {
      "cell_type": "code",
      "source": [
        "# Import necessary libraries\n",
        "import pandas as pd\n",
        "import seaborn as sns\n",
        "import matplotlib.pyplot as plt\n",
        "from sklearn.model_selection import train_test_split\n",
        "from sklearn.preprocessing import LabelEncoder, StandardScaler\n",
        "from sklearn.ensemble import RandomForestClassifier\n",
        "from sklearn.metrics import confusion_matrix, classification_report, accuracy_score, precision_score, recall_score\n",
        "import os\n",
        "\n",
        "# Load your CSV file with error handling\n",
        "file_path = '/crop_yield.csv'\n",
        "try:\n",
        "    if not os.path.exists(file_path):\n",
        "        raise FileNotFoundError(f\"File {file_path} not found. Please check the file path.\")\n",
        "    df = pd.read_csv(file_path)\n",
        "except Exception as e:\n",
        "    print(f\"Error loading file: {e}\")\n",
        "    exit(1)\n",
        "\n",
        "# Check for missing values and drop them\n",
        "missing_values = df.isnull().sum()\n",
        "print(\"Missing values per column:\\n\", missing_values)\n",
        "if missing_values.sum() > 0:\n",
        "    print(f\"Dropping {df.isnull().any(axis=1).sum()} rows with missing values.\")\n",
        "    df = df.dropna()\n",
        "\n",
        "# Verify column names\n",
        "print(\"Columns in dataset:\", df.columns.tolist())\n",
        "feature_cols = ['soil_quality', 'rainfall', 'seed_type']\n",
        "\n",
        "target_col = 'yield_category'\n",
        "\n",
        "# Check if specified columns exist\n",
        "missing_cols = [col for col in feature_cols + [target_col] if col not in df.columns]\n",
        "if missing_cols:\n",
        "    print(f\"Error: Columns {missing_cols} not found in dataset.\")\n",
        "    exit(1)\n",
        "\n",
        "# Encode categorical columns\n",
        "label_encoders = {}\n",
        "for col in feature_cols + [target_col]:\n",
        "    if df[col].dtype == 'object' or df[col].dtype.name == 'category':\n",
        "        le = LabelEncoder()\n",
        "        df[col] = le.fit_transform(df[col])\n",
        "        label_encoders[col] = le\n",
        "        print(f\"Encoded column '{col}' with classes: {le.classes_}\")\n",
        "\n",
        "# Define features and target\n",
        "X = df[feature_cols]\n",
        "y = df[target_col]\n",
        "\n",
        "# Check if target has enough classes\n",
        "if len(y.unique()) < 2:\n",
        "    print(\"Error: Target variable has fewer than 2 classes. Cannot proceed with classification.\")\n",
        "    exit(1)\n",
        "\n",
        "# Split into train/test sets\n",
        "X_train, X_test, y_train, y_test = train_test_split(X, y, test_size=0.2, random_state=42, stratify=y)\n",
        "print(f\"Training set size: {X_train.shape[0]} samples\")\n",
        "print(f\"Test set size: {X_test.shape[0]} samples\")\n",
        "\n",
        "# Scale the features\n",
        "scaler = StandardScaler()\n",
        "X_train = scaler.fit_transform(X_train)\n",
        "X_test = scaler.transform(X_test)\n",
        "\n",
        "# Train the classifier with tuned hyperparameters\n",
        "clf = RandomForestClassifier(n_estimators=100, max_depth=10, random_state=42, n_jobs=-1)\n",
        "try:\n",
        "    clf.fit(X_train, y_train)\n",
        "except Exception as e:\n",
        "    print(f\"Error training model: {e}\")\n",
        "    exit(1)\n",
        "\n",
        "# Predictions\n",
        "y_pred = clf.predict(X_test)\n",
        "\n",
        "# Confusion matrix\n",
        "cm = confusion_matrix(y_test, y_pred)\n",
        "\n",
        "# Plot heatmap\n",
        "plt.figure(figsize=(8, 6))\n",
        "sns.heatmap(cm, annot=True, fmt='d', cmap='YlGnBu',\n",
        "            xticklabels=label_encoders[target_col].classes_,\n",
        "            yticklabels=label_encoders[target_col].classes_)\n",
        "plt.xlabel('Predicted')\n",
        "plt.ylabel('Actual')\n",
        "plt.title('Confusion Matrix')\n",
        "plt.tight_layout()\n",
        "plt.show()\n",
        "\n",
        "# Evaluation metrics\n",
        "print(\"\\n✅ Evaluation Metrics:\")\n",
        "print(f\"Accuracy: {accuracy_score(y_test, y_pred):.4f}\")\n",
        "print(f\"Precision (macro): {precision_score(y_test, y_pred, average='macro'):.4f}\")\n",
        "print(f\"Recall (macro): {recall_score(y_test, y_pred, average='macro'):.4f}\")\n",
        "\n",
        "# Detailed classification report\n",
        "print(\"\\n📋 Detailed Classification Report:\")\n",
        "print(classification_report(y_test, y_pred, target_names=label_encoders[target_col].classes_))\n",
        "\n",
        "# Feature importance\n",
        "feature_importance = pd.DataFrame({\n",
        "    'Feature': feature_cols,\n",
        "    'Importance': clf.feature_importances_\n",
        "}).sort_values(by='Importance', ascending=False)\n",
        "print(\"\\n🔍 Feature Importance:\")\n",
        "print(feature_importance)"
      ],
      "metadata": {
        "colab": {
          "base_uri": "https://localhost:8080/",
          "height": 1000
        },
        "id": "wcxZ38-KxBeS",
        "outputId": "5263c910-20ab-45a6-b86b-0589e2c99913"
      },
      "execution_count": 32,
      "outputs": [
        {
          "output_type": "stream",
          "name": "stdout",
          "text": [
            "Missing values per column:\n",
            " soil_quality      0\n",
            "rainfall          0\n",
            "seed_type         0\n",
            "yield_category    0\n",
            "dtype: int64\n",
            "Columns in dataset: ['soil_quality', 'rainfall', 'seed_type', 'yield_category']\n",
            "Encoded column 'seed_type' with classes: ['A' 'B' 'C']\n",
            "Encoded column 'yield_category' with classes: ['high' 'low' 'medium']\n",
            "Training set size: 80 samples\n",
            "Test set size: 20 samples\n"
          ]
        },
        {
          "output_type": "display_data",
          "data": {
            "text/plain": [
              "<Figure size 800x600 with 2 Axes>"
            ],
            "image/png": "[encoded data removed]"
          },
          "metadata": {}
        },
        {
          "output_type": "stream",
          "name": "stdout",
          "text": [
            "\n",
            "✅ Evaluation Metrics:\n",
            "Accuracy: 0.4500\n",
            "Precision (macro): 0.4444\n",
            "Recall (macro): 0.4524\n",
            "\n",
            "📋 Detailed Classification Report:\n",
            "              precision    recall  f1-score   support\n",
            "\n",
            "        high       0.33      0.29      0.31         7\n",
            "         low       0.57      0.57      0.57         7\n",
            "      medium       0.43      0.50      0.46         6\n",
            "\n",
            "    accuracy                           0.45        20\n",
            "   macro avg       0.44      0.45      0.45        20\n",
            "weighted avg       0.45      0.45      0.45        20\n",
            "\n",
            "\n",
            "🔍 Feature Importance:\n",
            "        Feature  Importance\n",
            "0  soil_quality    0.510236\n",
            "1      rainfall    0.419603\n",
            "2     seed_type    0.070161\n"
          ]
        }
      ]
    }
  ]
}